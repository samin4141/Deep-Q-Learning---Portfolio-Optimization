{
 "cells": [
  {
   "cell_type": "code",
   "execution_count": 1,
   "metadata": {},
   "outputs": [
    {
     "name": "stdout",
     "output_type": "stream",
     "text": [
      "Downloading data for Vanguard_Index_Fund (VFINX)...\n"
     ]
    },
    {
     "name": "stderr",
     "output_type": "stream",
     "text": [
      "[*********************100%***********************]  1 of 1 completed\n",
      "[*********************100%***********************]  1 of 1 completed\n"
     ]
    },
    {
     "name": "stdout",
     "output_type": "stream",
     "text": [
      "Downloading data for S&P_500_Index_Fund (^GSPC)...\n",
      "Downloading data for Gold (GC=F)...\n"
     ]
    },
    {
     "name": "stderr",
     "output_type": "stream",
     "text": [
      "[*********************100%***********************]  1 of 1 completed\n",
      "[*********************100%***********************]  1 of 1 completed\n",
      "[*********************100%***********************]  1 of 1 completed\n"
     ]
    },
    {
     "name": "stdout",
     "output_type": "stream",
     "text": [
      "Downloading data for Crude_Oil (CL=F)...\n",
      "Downloading data for 10Y_Treasury_Bonds (^TNX)...\n",
      "Showing data for Vanguard_Index_Fund:\n",
      "                  Open        High         Low       Close   Adj Close  Volume\n",
      "Date                                                                          \n",
      "2018-01-02  248.880005  248.880005  248.880005  248.880005  224.582443       0\n",
      "2018-01-03  250.470001  250.470001  250.470001  250.470001  226.017197       0\n",
      "2018-01-04  251.529999  251.529999  251.529999  251.529999  226.973709       0\n",
      "2018-01-05  253.300003  253.300003  253.300003  253.300003  228.570923       0\n",
      "2018-01-08  253.720001  253.720001  253.720001  253.720001  228.949936       0\n",
      "Showing data for S&P_500_Index_Fund:\n",
      "                   Open         High          Low        Close    Adj Close  \\\n",
      "Date                                                                          \n",
      "2018-01-02  2683.729980  2695.889893  2682.360107  2695.810059  2695.810059   \n",
      "2018-01-03  2697.850098  2714.370117  2697.770020  2713.060059  2713.060059   \n",
      "2018-01-04  2719.310059  2729.290039  2719.070068  2723.989990  2723.989990   \n",
      "2018-01-05  2731.330078  2743.449951  2727.919922  2743.149902  2743.149902   \n",
      "2018-01-08  2742.669922  2748.510010  2737.600098  2747.709961  2747.709961   \n",
      "\n",
      "                Volume  \n",
      "Date                    \n",
      "2018-01-02  3397430000  \n",
      "2018-01-03  3544030000  \n",
      "2018-01-04  3697340000  \n",
      "2018-01-05  3239280000  \n",
      "2018-01-08  3246160000  \n"
     ]
    },
    {
     "ename": "TypeError",
     "evalue": "DQNAgent.replay() takes 1 positional argument but 2 were given",
     "output_type": "error",
     "traceback": [
      "\u001b[0;31m---------------------------------------------------------------------------\u001b[0m",
      "\u001b[0;31mTypeError\u001b[0m                                 Traceback (most recent call last)",
      "Cell \u001b[0;32mIn[1], line 44\u001b[0m\n\u001b[1;32m     42\u001b[0m         \u001b[38;5;28;01mbreak\u001b[39;00m\n\u001b[1;32m     43\u001b[0m \u001b[38;5;28;01mif\u001b[39;00m \u001b[38;5;28mlen\u001b[39m(agent\u001b[38;5;241m.\u001b[39mmemory) \u001b[38;5;241m>\u001b[39m \u001b[38;5;241m32\u001b[39m:  \u001b[38;5;66;03m# Example batch size\u001b[39;00m\n\u001b[0;32m---> 44\u001b[0m     \u001b[43magent\u001b[49m\u001b[38;5;241;43m.\u001b[39;49m\u001b[43mreplay\u001b[49m\u001b[43m(\u001b[49m\u001b[38;5;241;43m32\u001b[39;49m\u001b[43m)\u001b[49m\n",
      "\u001b[0;31mTypeError\u001b[0m: DQNAgent.replay() takes 1 positional argument but 2 were given"
     ]
    }
   ],
   "source": [
    "import pandas as pd\n",
    "import numpy as np\n",
    "from DQN import DQNAgent\n",
    "from data_preprocessing import DataPreprocessing\n",
    "from data_collection import FinancialDataDownloader\n",
    "\n",
    "tickers = {\n",
    "    'Vanguard_Index_Fund': 'VFINX',\n",
    "    'S&P_500_Index_Fund': '^GSPC',\n",
    "    'Gold': 'GC=F',\n",
    "    'Crude_Oil': 'CL=F',\n",
    "    '10Y_Treasury_Bonds': '^TNX'\n",
    "}\n",
    "\n",
    "# Initialize the class with tickers and date range\n",
    "data_downloader = FinancialDataDownloader(tickers=tickers, start_date='2018-01-01', end_date='2023-01-01')\n",
    "\n",
    "# Download the data\n",
    "downloaded_data = data_downloader.download_data()\n",
    "\n",
    "# Show the data for Vanguard Index Fund (VFINX)\n",
    "data_downloader.show_data('Vanguard_Index_Fund')\n",
    "\n",
    "# Show the data for S&P 500 Index Fund\n",
    "data_downloader.show_data('S&P_500_Index_Fund')\n",
    "\n",
    "state_size = 10  # Example state (e.g., 5 assets + 5 weights)\n",
    "action_size = 5  # Buy/sell/hold each of 5 assets\n",
    "agent = DQNAgent(state_size, action_size)\n",
    "\n",
    "# Simulated training loop (replace with real portfolio data)\n",
    "for e in range(1000):  # 1000 episodes\n",
    "    state = np.random.randn(state_size)  # Example state (replace with real market data)\n",
    "    for time in range(500):  # Example time steps\n",
    "        action = agent.act(state)\n",
    "        next_state = np.random.randn(state_size)  # Example next state (replace with real data)\n",
    "        reward = np.random.rand()  # Example reward (replace with portfolio returns)\n",
    "        done = time == 499\n",
    "        agent.remember(state, action, reward, next_state, done)\n",
    "        state = next_state\n",
    "        if done:\n",
    "            agent.update_target_network()\n",
    "            break\n",
    "    if len(agent.memory) > 32:  # Example batch size\n",
    "        agent.replay(32)\n"
   ]
  },
  {
   "cell_type": "code",
   "execution_count": null,
   "metadata": {},
   "outputs": [],
   "source": []
  }
 ],
 "metadata": {
  "kernelspec": {
   "display_name": "Python 3",
   "language": "python",
   "name": "python3"
  },
  "language_info": {
   "codemirror_mode": {
    "name": "ipython",
    "version": 3
   },
   "file_extension": ".py",
   "mimetype": "text/x-python",
   "name": "python",
   "nbconvert_exporter": "python",
   "pygments_lexer": "ipython3",
   "version": "3.10.12"
  }
 },
 "nbformat": 4,
 "nbformat_minor": 2
}
